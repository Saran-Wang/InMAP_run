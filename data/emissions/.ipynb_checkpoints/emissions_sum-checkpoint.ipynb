{
 "cells": [
  {
   "cell_type": "code",
   "execution_count": 5,
   "metadata": {},
   "outputs": [
    {
     "name": "stdout",
     "output_type": "stream",
     "text": [
      "ceds_agr.nc\n",
      "ceds_ene.nc\n",
      "ceds_ind.nc\n",
      "ceds_rco.nc\n",
      "ceds_shp.nc\n",
      "ceds_slv.nc\n",
      "ceds_tra.nc\n",
      "ceds_wst.nc\n",
      "biovoc.nc\n",
      "dust.nc\n",
      "soilnox.nc\n",
      "bioburn.nc\n"
     ]
    },
    {
     "data": {
      "text/plain": [
       "[None, None, None, None, None, None, None, None, None, None, None, None]"
      ]
     },
     "execution_count": 5,
     "metadata": {},
     "output_type": "execute_result"
    }
   ],
   "source": [
    "import os\n",
    "\n",
    "path = \"./\"\n",
    "files = [f for f in os.listdir(path) if os.path.isfile(os.path.join(path, f)) and f[-3:]==\".nc\"]\n",
    "\n",
    "[print(f) for f in files]"
   ]
  },
  {
   "cell_type": "code",
   "execution_count": 6,
   "metadata": {},
   "outputs": [
    {
     "name": "stdout",
     "output_type": "stream",
     "text": [
      "Tg emissions year-1\n",
      "\n",
      "anthropogenic\n",
      "CH4 372.218493609\n",
      "NH3 60.8822054757\n",
      "NOx 139.785501405\n",
      "VOC 164.821023774\n",
      "PM2_5 27.7222414445\n",
      "CO 614.549552737\n",
      "CO2 34971.7303715\n",
      "SOx 111.821828889\n",
      "\n",
      "Biogenic VOC and soil NOx\n",
      "VOC 551.505091548\n",
      "NOx 14.7294987283\n",
      "\n",
      "Dust\n",
      "PM2_5 276.692093005\n",
      "\n",
      "Biomass burning\n",
      "VOC 15.6806265843\n",
      "NOx 19.6124673949\n",
      "PM2_5 31.7719654594\n",
      "SOx 2.04126688686\n",
      "NH3 3.66374745608\n",
      "\n",
      "Totals (μg s-1)\n",
      "CH4: 7.4e+12\n",
      "NH3: 5.93e+11\n",
      "NOx: 5.32e+12\n",
      "VOC: 2.14e+13\n",
      "PM2_5: 1.05e+13\n",
      "CO: 1.79e+13\n",
      "CO2: 6.13e+14\n",
      "SOx: 2.09e+12\n"
     ]
    },
    {
     "data": {
      "text/plain": [
       "[None, None, None, None, None, None, None, None]"
      ]
     },
     "execution_count": 6,
     "metadata": {},
     "output_type": "execute_result"
    }
   ],
   "source": [
    "import netCDF4\n",
    "\n",
    "TgPerKg = 1.0e-9\n",
    "secondsPerYear = 60 * 60 * 24 * 366 + 1 # 2016 was a leap year with a leap second.\n",
    "ugPerKg = 1.0e9\n",
    "ugPerSperKgPerYear = ugPerKg / secondsPerYear\n",
    "\n",
    "natural = {}\n",
    "bioburn = {}\n",
    "anthro = {}\n",
    "dust = {}\n",
    "totalUgPerS = {}\n",
    "\n",
    "for f in files:\n",
    "    file = netCDF4.Dataset(f, 'r')\n",
    "    for v in file.variables:\n",
    "        if file[v].units != \"kg year-1\": continue\n",
    "        if v in totalUgPerS: totalUgPerS[v] = totalUgPerS[v] + file[v][:].sum() * ugPerSperKgPerYear\n",
    "        else: totalUgPerS[v] = file[v][:].sum() * TgPerKg\n",
    "        if \"ceds\" in f:\n",
    "            if v in anthro: anthro[v] = anthro[v] + file[v][:].sum() * TgPerKg\n",
    "            else: anthro[v] = file[v][:].sum() * TgPerKg\n",
    "        elif f == \"dust.nc\":\n",
    "            if v in dust: dust[v] = dust[v] + file[v][:].sum() * TgPerKg\n",
    "            else: dust[v] = file[v][:].sum() * TgPerKg\n",
    "        elif f == \"bioburn.nc\":\n",
    "            if v in bioburn: bioburn[v] = bioburn[v] + file[v][:].sum() * TgPerKg\n",
    "            else: bioburn[v] = file[v][:].sum() * TgPerKg\n",
    "        elif f == \"biovoc.nc\" or f == \"soilnox.nc\":\n",
    "            if v in natural: natural[v] = natural[v] + file[v][:].sum() * TgPerKg\n",
    "            else: natural[v] = file[v][:].sum() * TgPerKg\n",
    "        else: print(f, v)\n",
    "\n",
    "print(\"Tg emissions year-1\")\n",
    "print(\"\\nanthropogenic\")\n",
    "[print(p, anthro[p]) for p in anthro]\n",
    "print(\"\\nBiogenic VOC and soil NOx\")\n",
    "[print(p, natural[p]) for p in natural]\n",
    "print(\"\\nDust\")\n",
    "[print(p, dust[p]) for p in dust]\n",
    "print(\"\\nBiomass burning\")\n",
    "[print(p, bioburn[p]) for p in bioburn]\n",
    "\n",
    "print(\"\\nTotals (μg s-1)\")\n",
    "[print(\"%s: %.3g\"%(p, totalUgPerS[p])) for p in totalUgPerS]"
   ]
  },
  {
   "cell_type": "code",
   "execution_count": 24,
   "metadata": {},
   "outputs": [
    {
     "name": "stdout",
     "output_type": "stream",
     "text": [
      "['CH4', 'CO', 'CO2', 'NH3', 'NOx', 'PM2_5', 'SOx', 'VOC']\n",
      "Tg emissions year-1\n"
     ]
    },
    {
     "data": {
      "text/html": [
       "<div>\n",
       "<table border=\"1\" class=\"dataframe\">\n",
       "  <thead>\n",
       "    <tr style=\"text-align: right;\">\n",
       "      <th></th>\n",
       "      <th>Anthropogenic</th>\n",
       "      <th>Biogenic VOC and soil NOx</th>\n",
       "      <th>Biomass burning</th>\n",
       "      <th>Dust</th>\n",
       "    </tr>\n",
       "  </thead>\n",
       "  <tbody>\n",
       "    <tr>\n",
       "      <th>0</th>\n",
       "      <td>372.218494</td>\n",
       "      <td>NaN</td>\n",
       "      <td>NaN</td>\n",
       "      <td>NaN</td>\n",
       "    </tr>\n",
       "    <tr>\n",
       "      <th>1</th>\n",
       "      <td>614.549553</td>\n",
       "      <td>NaN</td>\n",
       "      <td>NaN</td>\n",
       "      <td>NaN</td>\n",
       "    </tr>\n",
       "    <tr>\n",
       "      <th>2</th>\n",
       "      <td>34971.730372</td>\n",
       "      <td>NaN</td>\n",
       "      <td>NaN</td>\n",
       "      <td>NaN</td>\n",
       "    </tr>\n",
       "    <tr>\n",
       "      <th>3</th>\n",
       "      <td>60.882205</td>\n",
       "      <td>NaN</td>\n",
       "      <td>3.663747</td>\n",
       "      <td>NaN</td>\n",
       "    </tr>\n",
       "    <tr>\n",
       "      <th>4</th>\n",
       "      <td>139.785501</td>\n",
       "      <td>14.729499</td>\n",
       "      <td>19.612467</td>\n",
       "      <td>NaN</td>\n",
       "    </tr>\n",
       "    <tr>\n",
       "      <th>5</th>\n",
       "      <td>27.722241</td>\n",
       "      <td>NaN</td>\n",
       "      <td>31.771965</td>\n",
       "      <td>276.692093</td>\n",
       "    </tr>\n",
       "    <tr>\n",
       "      <th>6</th>\n",
       "      <td>111.821829</td>\n",
       "      <td>NaN</td>\n",
       "      <td>2.041267</td>\n",
       "      <td>NaN</td>\n",
       "    </tr>\n",
       "    <tr>\n",
       "      <th>7</th>\n",
       "      <td>164.821024</td>\n",
       "      <td>551.505092</td>\n",
       "      <td>15.680627</td>\n",
       "      <td>NaN</td>\n",
       "    </tr>\n",
       "    <tr>\n",
       "      <th>8</th>\n",
       "      <td>36463.531219</td>\n",
       "      <td>566.234590</td>\n",
       "      <td>72.770074</td>\n",
       "      <td>276.692093</td>\n",
       "    </tr>\n",
       "  </tbody>\n",
       "</table>\n",
       "</div>"
      ],
      "text/plain": [
       "   Anthropogenic  Biogenic VOC and soil NOx  Biomass burning        Dust\n",
       "0     372.218494                        NaN              NaN         NaN\n",
       "1     614.549553                        NaN              NaN         NaN\n",
       "2   34971.730372                        NaN              NaN         NaN\n",
       "3      60.882205                        NaN         3.663747         NaN\n",
       "4     139.785501                  14.729499        19.612467         NaN\n",
       "5      27.722241                        NaN        31.771965  276.692093\n",
       "6     111.821829                        NaN         2.041267         NaN\n",
       "7     164.821024                 551.505092        15.680627         NaN\n",
       "8   36463.531219                 566.234590        72.770074  276.692093"
      ]
     },
     "execution_count": 24,
     "metadata": {},
     "output_type": "execute_result"
    }
   ],
   "source": [
    "import pandas as pd\n",
    "\n",
    "pols = sorted(totalUgPerS.keys())\n",
    "\n",
    "print(pols)\n",
    "\n",
    "print(\"Tg emissions year-1\")\n",
    "\n",
    "df = pd.DataFrame.from_dict({\n",
    "    \"Anthropogenic\": anthro,\n",
    "    \"Biogenic VOC and soil NOx\":natural,\n",
    "    \"Dust\": dust,\n",
    "    \"Biomass burning\": bioburn,\n",
    "}, index = [\"Anthropogenic\",\"Biogenic VOC and soil NOx\",\"Dust\",\"Biomass burning\"], orient=\"index\")\n",
    "\n",
    "df = df.append(df.sum(numeric_only=True), ignore_index=True)\n",
    "\n",
    "df = df.sort_index(axis=1)\n",
    "\n",
    "df"
   ]
  },
  {
   "cell_type": "code",
   "execution_count": 23,
   "metadata": {},
   "outputs": [
    {
     "data": {
      "text/markdown": [
       "CH4|CO|CO2|NH3|NOx|PM2_5|SOx|VOC\n",
       "---|---|---|---|---|---|---|---\n",
       "372.2184936094982|614.5495527372719|34971.730371538964|60.88220547568805|139.78550140517763|27.722241444467418|111.82182888943119|164.82102377372294\n",
       "||||14.729498728337349|||551.5050915483603\n",
       "|||3.6637474560797583|19.61246739487981|31.771965459433787|2.0412668868593493|15.680626584276311\n",
       "|||||276.69209300490525||\n",
       "372.2184936094982|614.5495527372719|34971.730371538964|64.54595293176781|174.1274675283948|336.18629990880646|113.86309577629054|732.0067419063595\n"
      ],
      "text/plain": [
       "<IPython.core.display.Markdown object>"
      ]
     },
     "metadata": {},
     "output_type": "display_data"
    }
   ],
   "source": [
    "def pandas_df_to_markdown_table(df):\n",
    "    from IPython.display import Markdown, display\n",
    "    fmt = ['---' for i in range(len(df.columns))]\n",
    "    df_fmt = pd.DataFrame([fmt], columns=df.columns)\n",
    "    df_formatted = pd.concat([df_fmt, df])\n",
    "    display(Markdown(df_formatted.to_csv(sep=\"|\", index=False)))\n",
    "\n",
    "pandas_df_to_markdown_table(df)"
   ]
  },
  {
   "cell_type": "code",
   "execution_count": null,
   "metadata": {
    "collapsed": true
   },
   "outputs": [],
   "source": []
  },
  {
   "cell_type": "code",
   "execution_count": null,
   "metadata": {
    "collapsed": true
   },
   "outputs": [],
   "source": []
  }
 ],
 "metadata": {
  "kernelspec": {
   "display_name": "Python 3",
   "language": "python",
   "name": "python3"
  },
  "language_info": {
   "codemirror_mode": {
    "name": "ipython",
    "version": 3
   },
   "file_extension": ".py",
   "mimetype": "text/x-python",
   "name": "python",
   "nbconvert_exporter": "python",
   "pygments_lexer": "ipython3",
   "version": "3.6.1"
  }
 },
 "nbformat": 4,
 "nbformat_minor": 2
}
