{
 "cells": [
  {
   "cell_type": "code",
   "execution_count": 1,
   "metadata": {},
   "outputs": [],
   "source": [
    "import os\n",
    "\n",
    "path = \"../data/biovoc\"\n",
    "files = [f for f in os.listdir(path) if os.path.isfile(os.path.join(path, f)) and f[-3:]==\".nc\"]\n",
    "\n",
    "#[print(f) for f in files]"
   ]
  },
  {
   "cell_type": "code",
   "execution_count": 10,
   "metadata": {
    "scrolled": true
   },
   "outputs": [
    {
     "name": "stdout",
     "output_type": "stream",
     "text": [
      "biovoc_025.20160101.nc\n",
      "ISOP 20650329068.1 8.28034604606e+42\n",
      "LIMO 1030821564.14 8.28034604606e+42\n",
      "MTPA 9825951968.05 8.28034604606e+42\n",
      "MTPO 4774960826.06 8.28034604606e+42\n",
      "biovoc_025.20160102.nc\n",
      "ISOP 20650329068.1 8.28034604606e+42\n",
      "LIMO 1030821564.14 8.28034604606e+42\n",
      "MTPA 9825951968.05 8.28034604606e+42\n",
      "MTPO 4774960826.06 8.28034604606e+42\n",
      "biovoc_025.20160103.nc\n",
      "ISOP 32832413353.4 8.28034604606e+42\n"
     ]
    },
    {
     "ename": "KeyboardInterrupt",
     "evalue": "",
     "output_type": "error",
     "traceback": [
      "\u001b[0;31m---------------------------------------------------------------------------\u001b[0m",
      "\u001b[0;31mKeyboardInterrupt\u001b[0m                         Traceback (most recent call last)",
      "\u001b[0;32m<ipython-input-10-5bae7fa03025>\u001b[0m in \u001b[0;36m<module>\u001b[0;34m()\u001b[0m\n\u001b[1;32m     35\u001b[0m \u001b[0;34m\u001b[0m\u001b[0m\n\u001b[1;32m     36\u001b[0m     \u001b[0;32mfor\u001b[0m \u001b[0;34m[\u001b[0m\u001b[0mname\u001b[0m\u001b[0;34m,\u001b[0m \u001b[0mmw\u001b[0m\u001b[0;34m,\u001b[0m \u001b[0mnc\u001b[0m\u001b[0;34m]\u001b[0m \u001b[0;32min\u001b[0m \u001b[0mvarnames\u001b[0m\u001b[0;34m:\u001b[0m\u001b[0;34m\u001b[0m\u001b[0m\n\u001b[0;32m---> 37\u001b[0;31m         \u001b[0mdata\u001b[0m \u001b[0;34m=\u001b[0m \u001b[0mrootgrp\u001b[0m\u001b[0;34m[\u001b[0m\u001b[0mname\u001b[0m\u001b[0;34m+\u001b[0m\u001b[0;34m\"_MEGAN\"\u001b[0m\u001b[0;34m]\u001b[0m\u001b[0;34m[\u001b[0m\u001b[0;34m:\u001b[0m\u001b[0;34m]\u001b[0m\u001b[0;34m.\u001b[0m\u001b[0mmean\u001b[0m\u001b[0;34m(\u001b[0m\u001b[0maxis\u001b[0m\u001b[0;34m=\u001b[0m\u001b[0;36m0\u001b[0m\u001b[0;34m)\u001b[0m \u001b[0;31m# Remove time dimension\u001b[0m\u001b[0;34m\u001b[0m\u001b[0m\n\u001b[0m\u001b[1;32m     38\u001b[0m         \u001b[0mdata\u001b[0m \u001b[0;34m=\u001b[0m \u001b[0mdata\u001b[0m \u001b[0;34m*\u001b[0m \u001b[0mugperkg\u001b[0m \u001b[0;34m*\u001b[0m \u001b[0marea\u001b[0m \u001b[0;31m# Convert from kgC m-2 s-1 to ugC s-1\u001b[0m\u001b[0;34m\u001b[0m\u001b[0m\n\u001b[1;32m     39\u001b[0m         \u001b[0mdata\u001b[0m \u001b[0;34m=\u001b[0m \u001b[0mdata\u001b[0m \u001b[0;34m*\u001b[0m \u001b[0;34m(\u001b[0m\u001b[0mmw\u001b[0m \u001b[0;34m/\u001b[0m \u001b[0mfloat\u001b[0m\u001b[0;34m(\u001b[0m\u001b[0mnc\u001b[0m \u001b[0;34m*\u001b[0m \u001b[0;36m12\u001b[0m\u001b[0;34m)\u001b[0m\u001b[0;34m)\u001b[0m \u001b[0;31m# Convert ugC to ug\u001b[0m\u001b[0;34m\u001b[0m\u001b[0m\n",
      "\u001b[0;32mnetCDF4/_netCDF4.pyx\u001b[0m in \u001b[0;36mnetCDF4._netCDF4.Variable.__getitem__ (netCDF4/_netCDF4.c:40851)\u001b[0;34m()\u001b[0m\n",
      "\u001b[0;32mnetCDF4/_netCDF4.pyx\u001b[0m in \u001b[0;36mnetCDF4._netCDF4.Variable._toma (netCDF4/_netCDF4.c:42255)\u001b[0;34m()\u001b[0m\n",
      "\u001b[0;32m/opt/conda/lib/python3.6/site-packages/numpy/core/_methods.py\u001b[0m in \u001b[0;36m_any\u001b[0;34m(a, axis, dtype, out, keepdims)\u001b[0m\n\u001b[1;32m     35\u001b[0m     \u001b[0;32mreturn\u001b[0m \u001b[0mumr_prod\u001b[0m\u001b[0;34m(\u001b[0m\u001b[0ma\u001b[0m\u001b[0;34m,\u001b[0m \u001b[0maxis\u001b[0m\u001b[0;34m,\u001b[0m \u001b[0mdtype\u001b[0m\u001b[0;34m,\u001b[0m \u001b[0mout\u001b[0m\u001b[0;34m,\u001b[0m \u001b[0mkeepdims\u001b[0m\u001b[0;34m)\u001b[0m\u001b[0;34m\u001b[0m\u001b[0m\n\u001b[1;32m     36\u001b[0m \u001b[0;34m\u001b[0m\u001b[0m\n\u001b[0;32m---> 37\u001b[0;31m \u001b[0;32mdef\u001b[0m \u001b[0m_any\u001b[0m\u001b[0;34m(\u001b[0m\u001b[0ma\u001b[0m\u001b[0;34m,\u001b[0m \u001b[0maxis\u001b[0m\u001b[0;34m=\u001b[0m\u001b[0;32mNone\u001b[0m\u001b[0;34m,\u001b[0m \u001b[0mdtype\u001b[0m\u001b[0;34m=\u001b[0m\u001b[0;32mNone\u001b[0m\u001b[0;34m,\u001b[0m \u001b[0mout\u001b[0m\u001b[0;34m=\u001b[0m\u001b[0;32mNone\u001b[0m\u001b[0;34m,\u001b[0m \u001b[0mkeepdims\u001b[0m\u001b[0;34m=\u001b[0m\u001b[0;32mFalse\u001b[0m\u001b[0;34m)\u001b[0m\u001b[0;34m:\u001b[0m\u001b[0;34m\u001b[0m\u001b[0m\n\u001b[0m\u001b[1;32m     38\u001b[0m     \u001b[0;32mreturn\u001b[0m \u001b[0mumr_any\u001b[0m\u001b[0;34m(\u001b[0m\u001b[0ma\u001b[0m\u001b[0;34m,\u001b[0m \u001b[0maxis\u001b[0m\u001b[0;34m,\u001b[0m \u001b[0mdtype\u001b[0m\u001b[0;34m,\u001b[0m \u001b[0mout\u001b[0m\u001b[0;34m,\u001b[0m \u001b[0mkeepdims\u001b[0m\u001b[0;34m)\u001b[0m\u001b[0;34m\u001b[0m\u001b[0m\n\u001b[1;32m     39\u001b[0m \u001b[0;34m\u001b[0m\u001b[0m\n",
      "\u001b[0;31mKeyboardInterrupt\u001b[0m: "
     ]
    }
   ],
   "source": [
    "import netCDF4\n",
    "\n",
    "out = netCDF4.Dataset('biovoc.nc', 'w', format='NETCDF3_64BIT_OFFSET', clobber=True)\n",
    "\n",
    "varnames = [\n",
    "    # GEOS-Chem name, molecular weight, number of carbons per molecule\n",
    "    [\"ISOP\", 68.12, 5],\n",
    "    [\"LIMO\", 136.23,10],\n",
    "    [\"MTPA\", 136.23,10],\n",
    "    [\"MTPO\", 136.23,10]\n",
    "]\n",
    "\n",
    "# Emissions units = kgC m-2 s-1\n",
    "ugperkg = 1.0e9\n",
    "\n",
    "for f in files:\n",
    "    print(f)\n",
    "    filepath = os.path.join(path, f)\n",
    "    rootgrp = netCDF4.Dataset(filepath, \"r\")\n",
    "    \n",
    "    area = rootgrp[\"AREA\"][:] # m2\n",
    "    \n",
    "    if len(out.dimensions) == 0:\n",
    "        for vname in [\"lat\", \"lon\"]:\n",
    "            dim = rootgrp.dimensions[vname]\n",
    "            out.createDimension(vname,size=dim.size)\n",
    "        for vname in [\"lat\", \"lon\", \"AREA\"]:\n",
    "            rootvar = rootgrp.variables[vname]\n",
    "            x = out.createVariable(vname, rootvar.datatype, rootvar.dimensions)\n",
    "            x[:] = rootvar[:]\n",
    "            x.setncatts(rootvar.__dict__)\n",
    "        voc_out = out.createVariable(\"VOC\", 'f8', rootgrp.variables[\"AREA\"].dimensions)\n",
    "        voc_out.units = \"ug s-1\"\n",
    "        voc_out.long_name = \"SOA_precursor_emission_flux_from_biogenic_sources\"\n",
    "        print(voc_out[:].sum())\n",
    "    \n",
    "    for [name, mw, nc] in varnames:\n",
    "        data = rootgrp[name+\"_MEGAN\"][:].mean(axis=0) # Remove time dimension\n",
    "        data = data * ugperkg * area # Convert from kgC m-2 s-1 to ugC s-1\n",
    "        data = data * (mw / float(nc * 12)) # Convert ugC to ug \n",
    "        data = data / float(len(files)) # We want the average emissions rate.\n",
    "        voc_out[:] = voc_out[:] + data\n",
    "        print(name, data.sum(), voc_out[:].sum())\n",
    " \n",
    "out.close()"
   ]
  },
  {
   "cell_type": "code",
   "execution_count": null,
   "metadata": {
    "collapsed": true
   },
   "outputs": [],
   "source": []
  }
 ],
 "metadata": {
  "kernelspec": {
   "display_name": "Python 3",
   "language": "python",
   "name": "python3"
  },
  "language_info": {
   "codemirror_mode": {
    "name": "ipython",
    "version": 3
   },
   "file_extension": ".py",
   "mimetype": "text/x-python",
   "name": "python",
   "nbconvert_exporter": "python",
   "pygments_lexer": "ipython3",
   "version": "3.6.1"
  }
 },
 "nbformat": 4,
 "nbformat_minor": 2
}
