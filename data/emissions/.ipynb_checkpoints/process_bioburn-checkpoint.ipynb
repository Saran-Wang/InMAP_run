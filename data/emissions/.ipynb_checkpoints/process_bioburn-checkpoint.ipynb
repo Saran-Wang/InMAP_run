{
 "cells": [
  {
   "cell_type": "markdown",
   "metadata": {},
   "source": [
    "# Biomass burning emissions\n",
    "\n",
    "Adapted from https://www.geo.vu.nl/~gwerf/GFED/GFED4/ancill/code/get_GFED4s_CO_emissions.py"
   ]
  },
  {
   "cell_type": "code",
   "execution_count": 12,
   "metadata": {
    "collapsed": true
   },
   "outputs": [],
   "source": [
    "import numpy as np\n",
    "import h5py\n",
    "import netCDF4"
   ]
  },
  {
   "cell_type": "code",
   "execution_count": 28,
   "metadata": {},
   "outputs": [
    {
     "name": "stdout",
     "output_type": "stream",
     "text": [
      "720 1440\n",
      "VOC (720, 1440) 497166346997.0\n",
      "NOx (720, 1440) 621828389185.0\n",
      "PM2_5 (720, 1440) 1.00735464361e+12\n",
      "SOx (720, 1440) 64719939342.4\n",
      "NH3 (720, 1440) 116161935830.0\n"
     ]
    }
   ],
   "source": [
    "months       = '01','02','03','04','05','06','07','08','09','10','11','12'\n",
    "sources      = 'SAVA','BORF','TEMF','DEFO','PEAT','AGRI'\n",
    "\n",
    "# in this example we will calculate annual CO emissions for the 14 GFED \n",
    "# basisregions over 1997-2014. Please adjust the code to calculate emissions\n",
    "# for your own specie, region, and time period of interest. Please\n",
    "# first download the GFED4.1s files and the GFED4_Emission_Factors.txt\n",
    "# to your computer and adjust the directory where you placed them below\n",
    "\n",
    "directory    = '../data/bioburn'\n",
    "\n",
    "\n",
    "\"\"\"\n",
    "Read in emission factors\n",
    "\"\"\"\n",
    "species = [] # names of the different gas and aerosol species\n",
    "EFs     = np.zeros((41, 6)) # 41 species, 6 sources\n",
    "\n",
    "k = 0\n",
    "f = open(directory+'/GFED4_Emission_Factors.txt')\n",
    "while 1:\n",
    "    line = f.readline()\n",
    "    if line == \"\":\n",
    "        break\n",
    "        \n",
    "    if line[0] != '#':\n",
    "        contents = line.split()\n",
    "        species.append(contents[0])\n",
    "        EFs[k,:] = contents[1:]\n",
    "        k += 1\n",
    "                \n",
    "f.close()\n",
    "\n",
    "# input_name : output_name\n",
    "pols = {\n",
    "    \"NMHC\": \"VOC\",\n",
    "    \"NOx\": \"NOx\",\n",
    "    \"PM2.5\": \"PM2_5\",\n",
    "    \"SO2\": \"SOx\",\n",
    "    \"NH3\": \"NH3\",\n",
    "}\n",
    "\n",
    "# we are interested in CO for this example (4th row):\n",
    "EF_CO = EFs[3,:]\n",
    "\n",
    "year = 2016\n",
    "\n",
    "noToNOx = 1.0 / 0.65 # Convert NO-based mass to NO2-based mass\n",
    "\n",
    "string = directory+'/GFED4.1s_'+str(year)+'.hdf5'\n",
    "f = h5py.File(string, 'r')\n",
    "\n",
    "grid_area = f['/ancill/grid_cell_area'][:]\n",
    "lat = f['lat']\n",
    "lon = f['lon']\n",
    "print(len(lat[:,0]), len(lon[0,:]))\n",
    "\n",
    "out = netCDF4.Dataset('bioburn.nc', 'w', format='NETCDF3_64BIT_OFFSET', clobber=True)\n",
    "out.createDimension('lat',size=len(lat[:,0]))\n",
    "out.createDimension('lon',size=len(lon[0,:]))\n",
    "\n",
    "lat_var = out.createVariable(\"lat\", 'f8', ['lat'])\n",
    "lat_var[:] = lat[:,0]\n",
    "lat_var.units = \"grid center degrees latitude\"\n",
    "lon_var = out.createVariable(\"lon\", 'f8', ['lon'])\n",
    "lon_var[:] = lon[0,:]\n",
    "lon_var.units = \"grid center degrees longitude\"\n",
    "\n",
    "area = out.createVariable(\"grid_area\", 'f8', ['lat', 'lon'])\n",
    "area[:] = grid_area\n",
    "area.units = \"m2\"\n",
    "\n",
    "for i in range(EFs.shape[0]):\n",
    "    if species[i] not in pols.keys(): continue\n",
    "    outpol = pols[species[i]]\n",
    "    emissions = np.zeros((720, 1440))\n",
    "    for month in range(12):\n",
    "        # read in DM emissions\n",
    "        string = '/emissions/'+months[month]+'/DM'\n",
    "        DM_emissions = f[string][:]\n",
    "        for source in range(6):\n",
    "            # read in the fractional contribution of each source\n",
    "            string = '/emissions/'+months[month]+'/partitioning/DM_'+sources[source]\n",
    "            contribution = f[string][:]\n",
    "            # calculate CO emissions as the product of DM emissions (kg DM per \n",
    "            # m2 per month), the fraction the specific source contributes to \n",
    "            # this (unitless), and the emission factor (g CO per kg DM burned)\n",
    "            emissions += DM_emissions * contribution * EFs[i, source] * grid_area\n",
    "\n",
    "    if outpol == \"NOx\": emissions = emissions * noToNOx\n",
    "    emissions = emissions * 1.0e-3 # convert g/year to kg/year\n",
    "\n",
    "    print(outpol, emissions.shape, emissions.sum())\n",
    "    ncv = out.createVariable(outpol, 'f8', ['lat', 'lon'])\n",
    "    ncv[:] = emissions\n",
    "    ncv.units = \"kg year-1\"\n",
    "    ncv.long_name = \"%s GFED4 biomass burning emissions\"\n",
    "\n",
    "out.close()"
   ]
  },
  {
   "cell_type": "code",
   "execution_count": null,
   "metadata": {
    "collapsed": true
   },
   "outputs": [],
   "source": []
  }
 ],
 "metadata": {
  "kernelspec": {
   "display_name": "Python 3",
   "language": "python",
   "name": "python3"
  },
  "language_info": {
   "codemirror_mode": {
    "name": "ipython",
    "version": 3
   },
   "file_extension": ".py",
   "mimetype": "text/x-python",
   "name": "python",
   "nbconvert_exporter": "python",
   "pygments_lexer": "ipython3",
   "version": "3.6.1"
  }
 },
 "nbformat": 4,
 "nbformat_minor": 2
}
